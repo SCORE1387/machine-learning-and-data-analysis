{
 "cells": [
  {
   "cell_type": "code",
   "execution_count": 96,
   "metadata": {
    "collapsed": false
   },
   "outputs": [
    {
     "name": "stdout",
     "output_type": "stream",
     "text": [
      "0.17.0\n",
      "(22L, 254L)\n",
      "{1: 0.95275444087384664, 2: 0.86447381456421235, 3: 0.89517151632780823, 4: 0.77708871496985887, 5: 0.94023856953328033, 6: 0.7327387580875756, 7: 0.92587506833388988, 8: 0.88427248752843102, 9: 0.90550888174769317, 10: 0.83281653622739416, 11: 0.88047713906656067, 12: 0.83964325485254543, 13: 0.87035925528956715, 14: 0.87401184233025764, 15: 0.94427217874246472, 16: 0.84063618542208085, 17: 0.95664450152379399, 18: 0.94427217874246472, 19: 0.88854435748492944, 20: 0.84275727449171223, 21: 0.82503644694405864}\n",
      "in comparison to dogs, cats have not undergone major changes during the domestication process.\n",
      "\n",
      "in one, people deliberately tamed cats in a process of artificial selection, as they were useful predators of vermin.\n",
      "\n",
      "domestic cats are similar in size to the other members of the genus felis, typically weighing between 4 and 5 kg (8.8 and 11.0 lb).\n",
      "\n"
     ]
    }
   ],
   "source": [
    "import re\n",
    "import numpy as np\n",
    "from scipy.spatial import distance\n",
    "print scipy.__version__\n",
    "from collections import Counter\n",
    "\n",
    "def getWordsCountInSentence(word, sentence):\n",
    "    wordCount = Counter(re.split('[^a-z]', sentence))\n",
    "    #print 'Search for ' + word + ' in \\'' + sentence + '\\''\n",
    "    #print wordCount[word];\n",
    "    return wordCount[word]\n",
    "\n",
    "f = open('d:\\dev\\coursera\\machine-learning-and-data-analysis\\math_and_python\\week2\\hw\\sentences.txt', 'r')\n",
    "\n",
    "sentences = []\n",
    "for sentence in f:\n",
    "    sentences.append(sentence.lower())\n",
    "#print sentences\n",
    "\n",
    "f.close()\n",
    "\n",
    "tokens = set()\n",
    "index = 0;\n",
    "for sentence in sentences:\n",
    "    for token in re.split('[^a-z]', sentence):\n",
    "        if token != '':\n",
    "            tokens.add(token)\n",
    "#print tokens\n",
    "#print len(tokens)\n",
    "\n",
    "tokensDict = {}\n",
    "index = 0\n",
    "for token in tokens:\n",
    "    tokensDict[index] = token\n",
    "    index += 1\n",
    "#print tokensDict\n",
    "\n",
    "matrix = np.zeros((len(sentences), len(tokens)))\n",
    "print matrix.shape;\n",
    "\n",
    "for i in range(matrix.shape[0]):\n",
    "    for j in range(matrix.shape[1]):\n",
    "        matrix[i,j] = getWordsCountInSentence(tokensDict[j], sentences[i])\n",
    "#print matrix\n",
    "\n",
    "distances = {}\n",
    "for k in range(1, matrix.shape[0]):\n",
    "    distances[k] = distance.cosine(matrix[0], matrix[k])\n",
    "print distances\n",
    "\n",
    "print sentences[0]\n",
    "print sentences[4]\n",
    "print sentences[6]"
   ]
  },
  {
   "cell_type": "code",
   "execution_count": 90,
   "metadata": {
    "collapsed": false
   },
   "outputs": [],
   "source": [
    "from scipy.spatial import distance"
   ]
  }
 ],
 "metadata": {
  "kernelspec": {
   "display_name": "Python 2",
   "language": "python",
   "name": "python2"
  },
  "language_info": {
   "codemirror_mode": {
    "name": "ipython",
    "version": 2
   },
   "file_extension": ".py",
   "mimetype": "text/x-python",
   "name": "python",
   "nbconvert_exporter": "python",
   "pygments_lexer": "ipython2",
   "version": "2.7.11"
  }
 },
 "nbformat": 4,
 "nbformat_minor": 0
}
